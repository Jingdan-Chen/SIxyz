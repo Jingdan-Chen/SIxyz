{
 "cells": [
  {
   "cell_type": "code",
   "execution_count": 1,
   "metadata": {},
   "outputs": [],
   "source": [
    "import pandas as pd\n"
   ]
  },
  {
   "cell_type": "code",
   "execution_count": 2,
   "metadata": {},
   "outputs": [
    {
     "data": {
      "text/plain": [
       "(27, 8)"
      ]
     },
     "execution_count": 2,
     "metadata": {},
     "output_type": "execute_result"
    }
   ],
   "source": [
    "worksheet = pd.read_csv(\"./origin_files/summary.csv\")\n",
    "worksheet.shape"
   ]
  },
  {
   "cell_type": "code",
   "execution_count": 3,
   "metadata": {},
   "outputs": [],
   "source": [
    "nameD = worksheet.iloc[:,1]\n",
    "infoD = worksheet.iloc[:,2:]"
   ]
  },
  {
   "cell_type": "code",
   "execution_count": 4,
   "metadata": {},
   "outputs": [],
   "source": [
    "info_lis = infoD.columns"
   ]
  },
  {
   "cell_type": "code",
   "execution_count": 5,
   "metadata": {},
   "outputs": [
    {
     "data": {
      "text/plain": [
       "-1561.428756"
      ]
     },
     "execution_count": 5,
     "metadata": {},
     "output_type": "execute_result"
    }
   ],
   "source": [
    "infoD.iloc[1,:]['M06-2X/6-31G(d,p) SCF energy:']"
   ]
  },
  {
   "cell_type": "code",
   "execution_count": 6,
   "metadata": {},
   "outputs": [],
   "source": [
    "# def string_process(string):\n",
    "#     temp = string.split()\n",
    "#     temp[0] =temp[0]+\" \"*3 if temp[1][0]==\"-\" else temp[0]+\" \"*4\n",
    "#     temp[1] =temp[1]+\" \"*2 if temp[2][0]==\"-\" else temp[1]+\" \"*3\n",
    "#     temp[2] =temp[2]+\" \"*2 if temp[3][0]==\"-\" else temp[2]+\" \"*3\n",
    "#     return \"\".join(temp)+\"\\n\""
   ]
  },
  {
   "cell_type": "code",
   "execution_count": 7,
   "metadata": {},
   "outputs": [],
   "source": [
    "filecont = []\n",
    "for idx in range(worksheet.shape[0]):\n",
    "    name = nameD[idx]\n",
    "    with open(\"./xyz/\"+name+\".xyz\",\"r\") as f:\n",
    "        xyz_cont = f.readlines()\n",
    "    #xyz_cont = list(map(string_process,xyz_cont[2:])) #\"\\t\".join\n",
    "    xyz_cont = xyz_cont[2:]\n",
    "    filecont.append(name+\"\\n\")\n",
    "    for title in info_lis:\n",
    "        temp  = title+\"\\t\"+str(infoD.iloc[idx,:][title])+\" a.u.\\n\"\n",
    "        filecont.append(temp)\n",
    "    filecont.append(\"\\n\")\n",
    "    filecont.append(\"Cartesian coordinates\\n\")\n",
    "    filecont.append(\"ATOM\\tX\\tY\\tZ\\n\")\n",
    "    filecont = filecont+xyz_cont\n",
    "    filecont.append(\"\\n\")\n",
    "\n",
    "with open(\"result.txt\",\"w\") as f:\n",
    "    f.writelines(filecont)\n",
    "\n"
   ]
  },
  {
   "cell_type": "code",
   "execution_count": 8,
   "metadata": {},
   "outputs": [],
   "source": [
    "# with open(\"temp.md\",\"w\") as f:\n",
    "#     f.writelines(xyz_cont)"
   ]
  },
  {
   "cell_type": "code",
   "execution_count": 9,
   "metadata": {},
   "outputs": [],
   "source": [
    "# opt_method = input(\"Please input the optimization/frequency therotical level:\\n\").strip()\n",
    "# spe_method = input(\"Please input the single point therotical level:\\n\").strip()\n"
   ]
  }
 ],
 "metadata": {
  "kernelspec": {
   "display_name": "Python 3.7.12 ('normal')",
   "language": "python",
   "name": "python3"
  },
  "language_info": {
   "codemirror_mode": {
    "name": "ipython",
    "version": 3
   },
   "file_extension": ".py",
   "mimetype": "text/x-python",
   "name": "python",
   "nbconvert_exporter": "python",
   "pygments_lexer": "ipython3",
   "version": "3.7.12"
  },
  "orig_nbformat": 4,
  "vscode": {
   "interpreter": {
    "hash": "b1e0d4bbcc78cccee12c2fa80dea09c14f3931aabbd58b949abf6d2f2b5c7c3d"
   }
  }
 },
 "nbformat": 4,
 "nbformat_minor": 2
}
